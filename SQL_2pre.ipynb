{
 "cells": [
  {
   "cell_type": "code",
   "execution_count": 1,
   "metadata": {},
   "outputs": [
    {
     "ename": "SyntaxError",
     "evalue": "invalid syntax (<ipython-input-1-07eca44778f5>, line 2)",
     "output_type": "error",
     "traceback": [
      "\u001b[0;36m  File \u001b[0;32m\"<ipython-input-1-07eca44778f5>\"\u001b[0;36m, line \u001b[0;32m2\u001b[0m\n\u001b[0;31m    SELECT SUM(TIV_2012) as TIV_2012\u001b[0m\n\u001b[0m           ^\u001b[0m\n\u001b[0;31mSyntaxError\u001b[0m\u001b[0;31m:\u001b[0m invalid syntax\n"
     ]
    }
   ],
   "source": [
    "# 1. Insureance problems:\n",
    "SELECT SUM(TIV_2012) as TIV_2012\n",
    "FROM insurance\n",
    "WHERE CONCAT(LAT, ',', LON)\n",
    "in (SELECT CONCAT(LAT, ',', LON)\n",
    "   From insurance \n",
    "   Group By LAT, LON\n",
    "   HAVING COUNT(1)=1 )\n",
    "and TIV_2011 in \n",
    "(SELECT TIV_2011 \n",
    " From Insurance \n",
    " Group by TIV_2011\n",
    " HAVING Count(1)>1)\n"
   ]
  },
  {
   "cell_type": "code",
   "execution_count": null,
   "metadata": {},
   "outputs": [],
   "source": [
    "# 2. BLOOD doner and acceptor:\n",
    "SELECT t.GENDER, t.BG, SUM(t.COUNTVALUE) TOTAL\n",
    "FROM (\n",
    "    SELECT GENDER,BG,COUNT(BG) COUNTVALUE FROM DONOR GROUP BY GENDER,BG\n",
    "    UNION ALL\n",
    "    SELECT GENDER,BG,COUNT(BG) COUNTVALUE FROM ACCEPTOR GROUP BY GENDER,BG\n",
    ") AS t\n",
    "GROUP BY t.GENDER, t.BG\n"
   ]
  },
  {
   "cell_type": "code",
   "execution_count": null,
   "metadata": {},
   "outputs": [],
   "source": [
    "# \n",
    "SELECT Max(Salary) SecondHighestSalary\n",
    "FROM Employee WHERE Salary < (SELECT MAX(Salary) FROM Employee)\n",
    "\n",
    "#Solution 2:\n",
    "WITH CTE AS (SELECT DISTINCT Salary\n",
    "FROM Employee\n",
    "ORDER BY Salary DESC\n",
    "LIMIT 2)\n",
    "\n",
    "SELECT Salary as SecondHighestSalary\n",
    "FROM CTE\n",
    "ORDER BY Salary Asc\n",
    "LIMIT 1;\n",
    "\n",
    "#Solution 3:\n",
    "WITH CTE AS\n",
    "(\n",
    "    SELECT Salary,\n",
    "           DENSE_RANK() OVER (ORDER BY Salary DESC) AS DENSERANK\n",
    "    FROM Employee\n",
    ")\n",
    "SELECT Salary SecondHighestSalary\n",
    "FROM CTE\n",
    "WHERE DENSERANK = 2;"
   ]
  },
  {
   "cell_type": "code",
   "execution_count": null,
   "metadata": {},
   "outputs": [],
   "source": [
    "# 4. Nth Highest Salary\n",
    "SET N= N-1;\n",
    "  RETURN (\n",
    "      # Write your MySQL query statement below.\n",
    "      SELECT DISTINCT Salary FROM Employee ORDER BY Salary DESC\n",
    "      LIMIT 1 OFFSET N\n",
    "      \n",
    "  );\n",
    "    \n",
    "\n",
    "SELECT score, Dense_Rank() over (Order by score DESC) as 'rank' from Scores\n",
    "\n",
    "SELECT Email\n",
    "FROM Person\n",
    "GROUP BY Email\n",
    "HAVING count(*) > 1\n",
    "\n",
    "\n",
    "\n",
    "Groupby having \n",
    "\n",
    "WITH CTE AS(\n",
    "SELECT Email, ROW_NUMBER() OVER(PARTITION BY Email ORDER BY Email) AS RN\n",
    "    FROM Person\n",
    ")\n",
    "\n",
    "SELECT Email\n",
    "FROM CTE\n",
    "WHERE RN > 1;\n",
    " "
   ]
  },
  {
   "cell_type": "code",
   "execution_count": null,
   "metadata": {},
   "outputs": [],
   "source": [
    "# 185. Department Top Three Salaries\n",
    "\n",
    "WITH department_ranking AS (\n",
    "SELECT Name AS Employee, Salary ,DepartmentId\n",
    "  ,DENSE_RANK() OVER (PARTITION BY DepartmentId ORDER BY Salary DESC) AS rnk\n",
    "FROM Employee\n",
    ")\n",
    "\n",
    "SELECT d.Name AS Department, r.Employee, r.Salary\n",
    "FROM department_ranking AS r\n",
    "JOIN Department AS d\n",
    "ON r.DepartmentId = d.Id\n",
    "WHERE r.rnk <= 3\n",
    "ORDER BY d.Name ASC, r.Salary DESC;\n"
   ]
  },
  {
   "cell_type": "code",
   "execution_count": null,
   "metadata": {},
   "outputs": [],
   "source": [
    "Datediff\n",
    "# Write your MySQL query statement below\n",
    "# 262: Trips and Users \n",
    "    \n",
    "select request_at as Day,\n",
    " ROUND(SUM(IF(status <>\"completed\", 1, 0))/Count(status), 2) as \"Cancellation Rate\"\n",
    " from Trips\n",
    " where request_at between '2013-10-01' and '2013-10-03'\n",
    " and client_id not in (select users_id from Users where banned= 'yes' )\n",
    " and driver_id not in (select users_id from Users where banned= 'yes' )\n",
    " group by request_at\n"
   ]
  },
  {
   "cell_type": "code",
   "execution_count": null,
   "metadata": {},
   "outputs": [],
   "source": [
    "512. Game Play Analysis II\n",
    "#Solution- 1:\n",
    "SELECT DISTINCT player_id, device_id\n",
    "FROM Activity\n",
    "WHERE (player_id, event_date) in (\n",
    "    SELECT player_id, min(event_date)\n",
    "    FROM Activity\n",
    "    GROUP BY player_id)\n",
    "\n",
    "#Solution- 2:\n",
    "SELECT a.player_id, b.device_id\n",
    "FROM\n",
    "(SELECT player_id, MIN(event_date) AS event_date FROM Activity\n",
    "GROUP BY player_id) a\n",
    "JOIN Activity b\n",
    "ON a.player_id = b.player_id AND a.event_date = b.event_date;\n",
    "\n",
    "#Solution- 3:\n",
    "SELECT player_id, device_id\n",
    "FROM\n",
    "(SELECT player_id, device_id, event_date,\n",
    "ROW_NUMBER() OVER (PARTITION BY player_id ORDER BY event_date) AS r\n",
    "FROM Activity) lookup\n",
    "WHERE r = 1;"
   ]
  },
  {
   "cell_type": "code",
   "execution_count": null,
   "metadata": {},
   "outputs": [],
   "source": [
    "# 534. Game Play Analysis III | Medium \n",
    "\n",
    "#Solution- 2:\n",
    "SELECT player_id, event_date,\n",
    "SUM(games_played) OVER (PARTITION BY player_id ORDER BY event_date) AS games_played_so_far\n",
    "FROM Activity;\n",
    "\n",
    "#Solution- 1:\n",
    "SELECT t1.player_id, t1.event_date, SUM(t2.games_played) as games_played_so_far\n",
    "FROM Activity t1\n",
    "JOIN Activity t2\n",
    "ON t1.player_id = t2.player_id\n",
    "WHERE t1.event_date >= t2.event_date\n",
    "GROUP BY t1.player_id, t1.event_date;\n"
   ]
  },
  {
   "cell_type": "code",
   "execution_count": null,
   "metadata": {},
   "outputs": [],
   "source": [
    "550. Game Play Analysis IV | Medium |\n",
    "Select round(count (a1.event_date)/ )\n",
    "from Activity a1 join Activity a2 \n",
    "on a1.palyer_id = a2.player_id\n",
    "and a1.games_palyed>0 and a2.game_played>0 and Datediff(a2.event_date , a1,event_date_=1\n",
    "group by player_id   \n",
    "                                                        \n",
    "SELECT ROUND(sum(CASE WHEN t1.event_date = t2.first_event+1 THEN 1 ELSE 0 END)/COUNT(DISTINCT t1.player_id), 2) AS fraction\n",
    "FROM Activity t1\n",
    "JOIN\n",
    "    (SELECT player_id, MIN(event_date) AS first_event\n",
    "    FROM Activity\n",
    "    GROUP BY player_id) t2\n",
    "    ON t1.player_id = t2.player_id;\n",
    "\n",
    "#Solution- 2:\n",
    "SELECT ROUND(COUNT(DISTINCT b.player_id)/COUNT(DISTINCT a.player_id),2) AS fraction\n",
    "FROM\n",
    "  (SELECT player_id, MIN(event_date) AS event_date FROM Activity\n",
    "  GROUP BY player_id) a\n",
    "  LEFT JOIN Activity b\n",
    "  ON a.player_id = b.player_id AND a.event_date+1 = b.event_date;\n",
    "                                                        "
   ]
  },
  {
   "cell_type": "code",
   "execution_count": null,
   "metadata": {},
   "outputs": [],
   "source": [
    "select distinct s1.*\n",
    "from Stadium s1 Join Stadium s2 Join Stadium s3\n",
    "on (s1.id= s2.id-1 and s1.id= s3.id-2) or\n",
    "(s1.id= s2.id+1 and s1.id= s3.id-1) or\n",
    "(s1.id= s2.id+2 and s1.id= s3.id+1)\n",
    "where s1.people>=100 and s2.people>=100 and s3.people>=100\n",
    "order by visit_date\n",
    "\n"
   ]
  },
  {
   "cell_type": "code",
   "execution_count": null,
   "metadata": {},
   "outputs": [],
   "source": [
    "select \n",
    "from \n",
    "\n",
    "select A.requester_id as id, A.c1 + B.c2 as num from \n",
    "((select requester_id as id, count(requester_id) as num\n",
    "from request_accepted  \n",
    "group by requester_id) \n",
    "union all \n",
    "(select accepter_id as id, count(accepter_id) as num\n",
    "from request_accepted \n",
    "group by accepter_id) ) as t\n",
    "on A.requester_id = B. accepter_id\n",
    "\n"
   ]
  }
 ],
 "metadata": {
  "kernelspec": {
   "display_name": "Python 3",
   "language": "python",
   "name": "python3"
  },
  "language_info": {
   "codemirror_mode": {
    "name": "ipython",
    "version": 3
   },
   "file_extension": ".py",
   "mimetype": "text/x-python",
   "name": "python",
   "nbconvert_exporter": "python",
   "pygments_lexer": "ipython3",
   "version": "3.8.5"
  }
 },
 "nbformat": 4,
 "nbformat_minor": 4
}
