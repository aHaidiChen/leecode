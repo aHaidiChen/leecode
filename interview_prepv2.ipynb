{
 "cells": [
  {
   "cell_type": "code",
   "execution_count": null,
   "id": "6b7f9ca2",
   "metadata": {},
   "outputs": [],
   "source": [
    "def fizzBuzz(self, n):\n",
    "    return [(not i%3)*\"Fizz\" + (not i%5)*\"Buzz\" or str(i) for i in range(1, n+1)]\n"
   ]
  },
  {
   "cell_type": "code",
   "execution_count": 2,
   "id": "0f4a3dda",
   "metadata": {},
   "outputs": [
    {
     "data": {
      "text/plain": [
       "7"
      ]
     },
     "execution_count": 2,
     "metadata": {},
     "output_type": "execute_result"
    }
   ],
   "source": [
    "# maximu length of none repeat substring:\n",
    "def longest_substring_no_repeat(strs):\n",
    "    last_index= {}\n",
    "    max_len= 0\n",
    "    idx1= 0  # this is the start idx  : the restart location \n",
    "    for i in range(len(strs)):\n",
    "        if strs[i] in last_index:      \n",
    "            idx1 =max(idx1, last_index[strs[i]]+1)\n",
    "        max_len= max(max_len, i-idx1+1)\n",
    "            \n",
    "        last_index[strs[i]]= i\n",
    "    return max_len\n",
    "        \n",
    "longest_substring_no_repeat(\"geeksforgeeks\")"
   ]
  },
  {
   "cell_type": "code",
   "execution_count": null,
   "id": "0143f87e",
   "metadata": {},
   "outputs": [],
   "source": [
    "# container with the most water ： Also a 2 pointer problems:\n",
    "# two pointer is so hard to undetand"
   ]
  },
  {
   "cell_type": "code",
   "execution_count": 6,
   "id": "df589618",
   "metadata": {},
   "outputs": [
    {
     "data": {
      "text/plain": [
       "[['a', 'a', 'b'], ['aa', 'b']]"
      ]
     },
     "execution_count": 6,
     "metadata": {},
     "output_type": "execute_result"
    }
   ],
   "source": [
    "# Given a string s, partition s such that every substring of the partition is a palindrome. Return all possible palindrome partitioning of s. give all the possible palindrome partioning of s: \n",
    "\n",
    "class Solution:\n",
    "    def partition(s) :\n",
    "        def dfs(s, path, res):\n",
    "            if not s:\n",
    "                res.append(path[:])\n",
    "                return\n",
    "            for i in range(1, len(s)+1):\n",
    "                if s[:i] == s[i-1::-1]:\n",
    "                    path.append(s[:i])\n",
    "                    dfs(s[i:], path, res)\n",
    "                    path.pop()        \n",
    "        res = []\n",
    "        dfs(s, [], res)\n",
    "        return res\n",
    "    \n",
    "\n",
    "def i_partition(s):\n",
    "    return [  [s[:i]] + rest   for i in range(1, len(s)+1) if s[:i]==s[i-1::-1] for rest in i_partition(s[i:]) ] or [[]]\n",
    "\n",
    "s= 'aab'\n",
    "i_partition(s)\n",
    "    "
   ]
  },
  {
   "cell_type": "code",
   "execution_count": null,
   "id": "04f17a7f",
   "metadata": {},
   "outputs": [],
   "source": [
    "# 2:  Combination Sum; Given an array of distinct integers candidates and a target integer target,\n",
    "# return a list of all unique combinations of candidates where the chosen numbers sum\n",
    "3 to target. You may return the combinations in any order.\n",
    "\n",
    "class Solution:\n",
    "    def combinationSum(self, candidates: List[int], target: int) -> List[List[int]]:\n",
    "        \n",
    "        # canditaeds are >1 and < 200\n",
    "        \n",
    "        def dfs(nums, path, res, target):\n",
    "            n=len(nums)\n",
    "            if sum(path)==target:\n",
    "                res.append(path)\n",
    "                return \n",
    "            if sum(path)>target:\n",
    "                return\n",
    "                \n",
    "            for i in range(n):\n",
    "                \n",
    "                dfs(nums[i:],  path+ [nums[i]], res, target)\n",
    "        \n",
    "        res=[]\n",
    "        dfs(candidates, [], res, target)\n",
    "        return res\n",
    "\n",
    "class Solution:\n",
    "def levelOrder(self, root: Optional[TreeNode]) -> List[List[int]]:\n",
    "    node, level = [], [root]\n",
    "    ans=[]\n",
    "    while root and level:\n",
    "        ans.append([node.val for node in level])\n",
    "        LRpair= [(node.left, node.right) for node in level]\n",
    "        level= [kid for n in level for kid in (n.left, n.right) if kid] \n",
    "\n",
    "    return ans\n",
    "\n",
    "\n",
    "    "
   ]
  },
  {
   "cell_type": "code",
   "execution_count": null,
   "id": "cf3e9ed0",
   "metadata": {},
   "outputs": [],
   "source": [
    "# search fot the tree and node values; \n",
    "\n",
    "class Solution:\n",
    "    def levelOrder(self, root):\n",
    "        if not root: return []\n",
    "        queue, result = deque([root]), []\n",
    "        \n",
    "        while queue:\n",
    "            level = []\n",
    "            for i in range(len(queue)):\n",
    "                node = queue.popleft()\n",
    "                level.append(node.val)\n",
    "                if node.left:  queue.append(node.left)\n",
    "                if node.right: queue.append(node.right)\n",
    "            result.append(level)\n",
    "        return result\n"
   ]
  },
  {
   "cell_type": "code",
   "execution_count": 19,
   "id": "46747cb2",
   "metadata": {},
   "outputs": [
    {
     "name": "stdout",
     "output_type": "stream",
     "text": [
      "aba\n"
     ]
    }
   ],
   "source": [
    "# Get the longest paraline in a sting\n",
    "import numpy as np\n",
    "def longestP(s):\n",
    "    max_len=1\n",
    "    n= len(s)\n",
    "    dp=[[False]*n for i in range(n)]  # record the length of the dp\n",
    "    for i in range(n):\n",
    "        dp[i][i]= True\n",
    "\n",
    "    for length in range(2, n+1):  # for the stting lengh\n",
    "       for i in range(n-length+1):\n",
    "            j= i+length-1\n",
    "            dp[i][j]= (s[i]==s[j]) & (dp[i+1][j-1])\n",
    "\n",
    "    return dp\n",
    "s='cabadccacbc'\n",
    "dp=longestP(s)\n",
    "x= np.where(dp)\n",
    "idx=np.argmax(x[1]-x[0])\n",
    "print(s[ x[0][idx] : x[1][idx]+1])\n",
    "\n",
    "        "
   ]
  },
  {
   "cell_type": "code",
   "execution_count": null,
   "id": "ee198681",
   "metadata": {},
   "outputs": [],
   "source": [
    "# this section contribute to the trading backtesting performance:\n",
    "1: sharp ration ; P%L ; Drawdown;l \n",
    "\n",
    "pd.read_csv(raw, index_col= 0, parse_dates= True)\n",
    "pd.to_datetime()\n",
    "\n",
    "\n",
    "index = pd.date_range('2021-7-1', periods=5, freq='B') # waht does the frequency B mean？ \n",
    "# parser date, date parcers; \n",
    "\n",
    "data['SMA1'] = data['price'].rolling(42).mean()\n",
    "data['SMA2'] = data['price'].rolling(252).mean()\n",
    "data['position'] = np.where(data['SMA1'] > data['SMA2'], 1, -1)\n",
    "\n",
    "data['returns']= data['price'].pct_change()\n",
    "data['returns'] = np.log(data['price']/ data['price'].shift(1))\n",
    "\n",
    "data['strategy'] = data['position'].shift(1) * data['returns'] # the past day return * the positon \n",
    "\n",
    "data[['returns', 'strategy']].dropna().cumsum(\n",
    "            ).apply(np.exp).plot(figsize=(10, 6))\n",
    "\n",
    "data['cumret'] = data['strategy'].cumsum().apply(np.exp) # accumulative return\n",
    "\n",
    "data['cummax'] = data['cumret'].cummax()  # accumulative max\n",
    "drawdown = data['cummax'] - data['cumret']\n",
    "drawdown.max()\n",
    "# strategy based on SMA:\n",
    "data['position'] = np.where(data['SMA1'] > data['SMA2'], 1, -1)\n",
    "data['strategy'] = data['position'].shift(1) * data['return']\n",
    "        \n",
    "\n",
    "# based on daily return \n",
    "data['returns'] = np.log(data['price'] / data['price'].shift(1))\n",
    "data['position'] = np.sign(data['returns'])\n",
    "data['strategy'] = data['position'].shift(1) * data['returns']\n",
    "\n",
    "# based on the rolling means \n",
    "data['position'] = np.sign(data['returns'].rolling(3).mean())\n",
    "data['strategy'] = data['position'].shift(1) * data['returns']\n",
    "data[['returns', 'strategy']].dropna().cumsum(\n",
    "        ).apply(np.exp).plot(figsize=(10, 6));\n",
    "\n",
    "\n",
    "price minums the  rolling mean price \n",
    "\n",
    "data['position'] = np.where(data['distance'] > threshold,\n",
    "                            -1, np.nan)\n",
    "data['position'] = np.where(data['distance'] < -threshold,\n",
    "                            1, data['position'])\n",
    "# reset this posisiotn to 0 when there is sudden jump of the postion \n",
    "\n",
    "data['position'] = np.where(data['distance'] *\n",
    "            data['distance'].shift(1) < 0, 0, data['position'])\n",
    "data['position'] = data['position'].ffill().fillna(0)\n",
    "\n",
    " reg = np.linalg.lstsq(self.lagged_data[self.cols],\n",
    "                              np.sign(self.lagged_data['returns']),\n",
    "                              rcond=None)[0]"
   ]
  },
  {
   "cell_type": "code",
   "execution_count": null,
   "id": "2452fc90",
   "metadata": {},
   "outputs": [],
   "source": []
  },
  {
   "cell_type": "code",
   "execution_count": null,
   "id": "46f73126",
   "metadata": {},
   "outputs": [],
   "source": []
  },
  {
   "cell_type": "code",
   "execution_count": null,
   "id": "7a7ceff1",
   "metadata": {},
   "outputs": [],
   "source": []
  },
  {
   "cell_type": "code",
   "execution_count": null,
   "id": "b5e16e5e",
   "metadata": {},
   "outputs": [],
   "source": []
  }
 ],
 "metadata": {
  "kernelspec": {
   "display_name": "Python 3 (ipykernel)",
   "language": "python",
   "name": "python3"
  },
  "language_info": {
   "codemirror_mode": {
    "name": "ipython",
    "version": 3
   },
   "file_extension": ".py",
   "mimetype": "text/x-python",
   "name": "python",
   "nbconvert_exporter": "python",
   "pygments_lexer": "ipython3",
   "version": "3.8.12"
  }
 },
 "nbformat": 4,
 "nbformat_minor": 5
}
